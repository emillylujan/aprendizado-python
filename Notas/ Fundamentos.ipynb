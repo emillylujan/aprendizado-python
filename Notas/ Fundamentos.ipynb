{
 "cells": [
  {
   "cell_type": "markdown",
   "id": "094e92d2",
   "metadata": {},
   "source": [
    "# Primeiros Exemplos"
   ]
  },
  {
   "cell_type": "code",
   "execution_count": 3,
   "id": "ac6f71fe",
   "metadata": {},
   "outputs": [
    {
     "name": "stdout",
     "output_type": "stream",
     "text": [
      "primeiro programa\n",
      "Help on built-in function print in module builtins:\n",
      "\n",
      "print(...)\n",
      "    print(value, ..., sep=' ', end='\\n', file=sys.stdout, flush=False)\n",
      "    \n",
      "    Prints the values to a stream, or to sys.stdout by default.\n",
      "    Optional keyword arguments:\n",
      "    file:  a file-like object (stream); defaults to the current sys.stdout.\n",
      "    sep:   string inserted between values, default a space.\n",
      "    end:   string appended after the last value, default a newline.\n",
      "    flush: whether to forcibly flush the stream.\n",
      "\n"
     ]
    }
   ],
   "source": [
    "print('primeiro programa')\n",
    "1 \\\n",
    "+ 2 \n",
    "help(print)"
   ]
  },
  {
   "cell_type": "code",
   "execution_count": 4,
   "id": "eb4b5be8",
   "metadata": {},
   "outputs": [
    {
     "data": {
      "text/plain": [
       "7"
      ]
     },
     "execution_count": 4,
     "metadata": {},
     "output_type": "execute_result"
    }
   ],
   "source": [
    "1 + 2 + 3\n",
    "5 - 2 + 4 "
   ]
  },
  {
   "cell_type": "code",
   "execution_count": 5,
   "id": "9dd30574",
   "metadata": {
    "scrolled": true
   },
   "outputs": [
    {
     "name": "stdout",
     "output_type": "stream",
     "text": [
      "6\n",
      "7\n"
     ]
    }
   ],
   "source": [
    "print (1 + 2 + 3)\n",
    "print (5 - 2 + 4)"
   ]
  },
  {
   "cell_type": "markdown",
   "id": "8d26c895",
   "metadata": {},
   "source": [
    "# Tipos Básicos \n"
   ]
  },
  {
   "cell_type": "code",
   "execution_count": 14,
   "id": "3190afe9",
   "metadata": {},
   "outputs": [
    {
     "name": "stdout",
     "output_type": "stream",
     "text": [
      "True\n",
      "False\n",
      "2.2\n",
      "Aqui eu falo minha lingua\n",
      "Aqui tambem funciona.\n",
      "Você é  muito  muito  muito  legal.\n"
     ]
    }
   ],
   "source": [
    "print(True)\n",
    "print(False)\n",
    "print(1.2 + 1)\n",
    "print('Aqui eu falo minha lingua')\n",
    "print(\"Aqui tambem funciona.\")\n",
    "print('Você é ' + 3 * ' muito ' + ' legal.' )\n",
    "# print(3 + '3')-> ambiguidade \n",
    "print([1, 2, 3])\n",
    "print({'nome': 'Mário', 'Idade': '22 anos'})\n",
    "print(None)"
   ]
  },
  {
   "cell_type": "markdown",
   "id": "677c8392",
   "metadata": {},
   "source": [
    "# Variáveis"
   ]
  },
  {
   "cell_type": "code",
   "execution_count": 6,
   "id": "d2e39862",
   "metadata": {},
   "outputs": [
    {
     "name": "stdout",
     "output_type": "stream",
     "text": [
      "15.2\n",
      "Agora sou uma string!\n"
     ]
    },
    {
     "data": {
      "text/plain": [
       "5.2"
      ]
     },
     "execution_count": 6,
     "metadata": {},
     "output_type": "execute_result"
    }
   ],
   "source": [
    "a = 10\n",
    "b = 5.2\n",
    "\n",
    "print(a + b)\n",
    "\n",
    "a = 'Agora sou uma string!'\n",
    "print(a)\n",
    "a\n",
    "b\n",
    "\n",
    "#print(a + b)"
   ]
  },
  {
   "cell_type": "markdown",
   "id": "690f3097",
   "metadata": {},
   "source": [
    "# Comentários"
   ]
  },
  {
   "cell_type": "code",
   "execution_count": 8,
   "id": "f7d08073",
   "metadata": {},
   "outputs": [
    {
     "name": "stdout",
     "output_type": "stream",
     "text": [
      "1669.3899999999994\n",
      "Fim de verdade\n",
      "Agora sim fim de verdade\n"
     ]
    }
   ],
   "source": [
    "# Minhas variáveis\n",
    "salário = 6499.99\n",
    "despesas = 4830.60\n",
    "\n",
    "\"\"\"\n",
    "A ideia é calcular o valor\n",
    "que vai sobrar no final do mes!\n",
    "\"\"\"\n",
    "print(salário-despesas)\n",
    "\n",
    "#print ('Fim')\n",
    "print('Fim de verdade') # comentário aqui tambem vale!\n",
    "\n",
    "'''\n",
    "A ideia é calcular o valor\n",
    "que vai sobrar no final do mes!\n",
    "'''\n",
    "print('Agora sim fim de verdade')  \n",
    " "
   ]
  },
  {
   "cell_type": "markdown",
   "id": "303c8e55",
   "metadata": {},
   "source": [
    "# Operadores Aritméticos"
   ]
  },
  {
   "cell_type": "code",
   "execution_count": 8,
   "id": "3ec2ff4b",
   "metadata": {
    "scrolled": true
   },
   "outputs": [
    {
     "name": "stdout",
     "output_type": "stream",
     "text": [
      "393\n",
      "200\n",
      "7.5\n",
      "2.5\n",
      "2\n",
      "256\n",
      "1\n"
     ]
    }
   ],
   "source": [
    "# Operadores biários e infix\n",
    "\n",
    "# Soma \n",
    "print(245 + 148)\n",
    "\n",
    "# Subtração\n",
    "print(350 - 150)\n",
    "\n",
    "# Multiplicação\n",
    "print(3 * 2.5)\n",
    "\n",
    "# Divisão\n",
    "print(10 / 4)\n",
    "\n",
    "# Volta obrigatóriamente um inteiro\n",
    "print(10 // 4)\n",
    "\n",
    "# Exponenciação \n",
    "print(2 ** 8)\n",
    "\n",
    "# Modúlo, que é o resto da divisão \n",
    "print(10 % 3)\n",
    "\n",
    "# Operador unário, com um único operando \n",
    "\n",
    "\n",
    "# Préfixado, vem antes do operando o operador \n",
    "# Pósfixado, vai depois do operando o operador\n",
    "# Operador unário, com um único operando\n"
   ]
  },
  {
   "cell_type": "code",
   "execution_count": 3,
   "id": "6739b708",
   "metadata": {},
   "outputs": [
    {
     "data": {
      "text/plain": [
       "69.08462867012089"
      ]
     },
     "execution_count": 3,
     "metadata": {},
     "output_type": "execute_result"
    }
   ],
   "source": [
    "# Minhas variáveis\n",
    "salário = 5500.50\n",
    "despesas = 3800.00\n",
    "\n",
    "# Resposta \n",
    "percentual_comprometido = despesas / salário * 100\n",
    "percentual_comprometido\n"
   ]
  },
  {
   "cell_type": "markdown",
   "id": "3b6723c3",
   "metadata": {},
   "source": [
    "# Operadores Relacionais"
   ]
  },
  {
   "cell_type": "code",
   "execution_count": 13,
   "id": "5f49bd9d",
   "metadata": {
    "scrolled": true
   },
   "outputs": [
    {
     "data": {
      "text/plain": [
       "False"
      ]
     },
     "execution_count": 13,
     "metadata": {},
     "output_type": "execute_result"
    }
   ],
   "source": [
    "3 > 4\n",
    "4 >= 3\n",
    "1 < 2\n",
    "3 <= 1\n",
    "# ! sinal de diferença\n",
    "5 != 8\n",
    "3 == 3\n",
    "# 3 == '3' dá falso, porque '3' é uma string\n",
    "3 == '3'"
   ]
  },
  {
   "cell_type": "markdown",
   "id": "de7307c0",
   "metadata": {},
   "source": [
    "# Operadores de atribuição "
   ]
  },
  {
   "cell_type": "code",
   "execution_count": 1,
   "id": "cd4a8763",
   "metadata": {},
   "outputs": [
    {
     "name": "stdout",
     "output_type": "stream",
     "text": [
      "10\n",
      "15\n",
      "12\n",
      "24\n",
      "6.0\n",
      "2.0\n",
      "256.0\n",
      "1.0\n"
     ]
    }
   ],
   "source": [
    "# = é um sinal de atribuição\n",
    "a = 3\n",
    "a = a + 7\n",
    "print(a)\n",
    "\n",
    "# atribuição somativa\n",
    "# a = 5\n",
    "a += 5 # a = a + 5\n",
    "print(a)\n",
    "\n",
    "# atribuição subtrativa\n",
    "a -= 3\n",
    "print(a)\n",
    "\n",
    "# atribuição multiplcativa\n",
    "a *= 2 \n",
    "print(a)\n",
    "\n",
    "# atribuição divisiva\n",
    "a /= 4\n",
    "print(a)\n",
    "\n",
    "# atribuição modular\n",
    "a %= 4\n",
    "print(a)\n",
    "\n",
    "# atribuição exponencial \n",
    "a **= 8\n",
    "print(a)\n",
    "\n",
    "#divisão que o resultado sempre é inteiro\n",
    "a //= 256\n",
    "print(a)"
   ]
  },
  {
   "cell_type": "markdown",
   "id": "1857cbeb",
   "metadata": {},
   "source": [
    "# Operadores lógicos"
   ]
  },
  {
   "cell_type": "code",
   "execution_count": 19,
   "id": "2df0a5f1",
   "metadata": {},
   "outputs": [
    {
     "ename": "SyntaxError",
     "evalue": "cannot assign to operator (1813086632.py, line 63)",
     "output_type": "error",
     "traceback": [
      "\u001b[1;36m  File \u001b[1;32m\"C:\\Users\\felip\\AppData\\Local\\Temp\\ipykernel_14396\\1813086632.py\"\u001b[1;36m, line \u001b[1;32m63\u001b[0m\n\u001b[1;33m    despesas_controladas =salario-despesas => 0.2 * salario\u001b[0m\n\u001b[1;37m                          ^\u001b[0m\n\u001b[1;31mSyntaxError\u001b[0m\u001b[1;31m:\u001b[0m cannot assign to operator\n"
     ]
    }
   ],
   "source": [
    "True or False\n",
    "7 != 3 and 2 > 3 \n",
    "\n",
    "#Tabela verdade do AND \n",
    "True and True \n",
    "True and False \n",
    "False and True \n",
    "False and False \n",
    "True and True and False and True and True and True and True \n",
    "\n",
    "#Tabela verdade do OR\n",
    "True or True \n",
    "True or False \n",
    "False or True \n",
    "False or False\n",
    "False or False or False or True or False or False \n",
    "\n",
    "#Tabela verdade do XOR\n",
    "True != True \n",
    "True != False \n",
    "False != True \n",
    "False != False \n",
    "\n",
    "#Operador de negação (unário)\n",
    "not True \n",
    "not False\n",
    "\n",
    "\n",
    "not 0\n",
    "not 1\n",
    "not not -1\n",
    "not not True \n",
    "\n",
    "#Cuidado com os operadores Bitwise\n",
    "True & False \n",
    "False | True \n",
    "True ^ False \n",
    "\n",
    "#AND Bit-a-Bit \n",
    "# 3 = 11\n",
    "# 2 = 10\n",
    "# _ = 01\n",
    "3 & 2\n",
    "\n",
    "#OR Bit-a-Bit \n",
    "# 3 = 11\n",
    "# 2 = 10\n",
    "# _ = 11\n",
    "3 | 2\n",
    "\n",
    "#Xor Bit-a-Bit \n",
    "# 3 = 11\n",
    "# 2 = 10\n",
    "# _ = 01\n",
    "3 ^ 2\n",
    "\n",
    "#Um pouco de realidade\n",
    "saldo = 1000\n",
    "salario = 4000\n",
    "despesas = 3900\n",
    "\n",
    "saldo_positivo = saldo > 0\n",
    "despesas_controladas = salario - despesas => 0.2 * salario\n",
    "\n",
    "meta = saldo_positivo and despesas_controladas \n",
    "meta "
   ]
  },
  {
   "cell_type": "code",
   "execution_count": null,
   "id": "c4174136",
   "metadata": {},
   "outputs": [],
   "source": [
    "# Desafio Operadores lógicos \n",
    "# Os Trabalhos\n",
    "trabalho_terça = True \n",
    "trabalho_quinta = False \n",
    "\n",
    "\"\"\"\"\n",
    "- Confirmando os 2 = TV 50' + Sorvete \n",
    "- Confirmando apenas 1 = TV 32' + Sorvete \n",
    "- Nenhum corfirmado = Fica em casa\n",
    "\n",
    "\n"
   ]
  }
 ],
 "metadata": {
  "kernelspec": {
   "display_name": "Python 3 (ipykernel)",
   "language": "python",
   "name": "python3"
  },
  "language_info": {
   "codemirror_mode": {
    "name": "ipython",
    "version": 3
   },
   "file_extension": ".py",
   "mimetype": "text/x-python",
   "name": "python",
   "nbconvert_exporter": "python",
   "pygments_lexer": "ipython3",
   "version": "3.9.13"
  }
 },
 "nbformat": 4,
 "nbformat_minor": 5
}
